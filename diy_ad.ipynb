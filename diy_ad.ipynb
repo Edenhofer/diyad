{
 "cells": [
  {
   "cell_type": "code",
   "execution_count": null,
   "metadata": {},
   "outputs": [],
   "source": [
    "import numpy as np\n",
    "import jax"
   ]
  },
  {
   "cell_type": "code",
   "execution_count": null,
   "metadata": {},
   "outputs": [],
   "source": [
    "class Linearization():\n",
    "    def __init__(self, p, fwd=lambda t: t, bwd=lambda t: t):\n",
    "        self.p = p\n",
    "        self._fwd, self._bwd = fwd, bwd\n",
    "\n",
    "    def __call__(self, t):\n",
    "        return self._fwd(t)\n",
    "\n",
    "    @property\n",
    "    def T(self):\n",
    "        return self.__class__(None, self._bwd, self._fwd)\n",
    "\n",
    "    def __repr__(self):\n",
    "        return f\"{self.__class__.__name__}({self.p}, {self._fwd}, {self._bwd})\"\n",
    "\n",
    "\n",
    "def exp(pl):\n",
    "    if isinstance(pl, Linearization):\n",
    "        y = exp(pl.p)\n",
    "        def fwd(t): return y * pl(t)\n",
    "        def bwd(t): return pl.T(y * t)\n",
    "        return Linearization(y, fwd, bwd)\n",
    "    return np.exp(pl)"
   ]
  },
  {
   "cell_type": "code",
   "execution_count": null,
   "metadata": {},
   "outputs": [],
   "source": [
    "x0 = 1e-2 * np.arange(0, 9)\n",
    "ones = np.ones((9, ))\n",
    "y = exp(x0)\n",
    "j = exp(exp(Linearization(x0)))\n",
    "print(y)\n",
    "print(j.T(ones))"
   ]
  },
  {
   "cell_type": "code",
   "execution_count": null,
   "metadata": {},
   "outputs": [],
   "source": [
    "_, jj_T = jax.vjp(lambda x: jax.numpy.exp(jax.numpy.exp(x)), x0.astype(float))\n",
    "jj_T(ones)"
   ]
  },
  {
   "cell_type": "code",
   "execution_count": null,
   "metadata": {},
   "outputs": [],
   "source": [
    "def weighted_reduction(pl, n=32, n_cols=3):\n",
    "    if isinstance(pl, Linearization):\n",
    "        def fwd(t): return weighted_reduction(pl(t))\n",
    "        def bwd(t):\n",
    "            p_shp = pl.p.reshape(3, -1).shape\n",
    "            x_T, indices = np.zeros(p_shp), np.arange(n) % p_shp[0]\n",
    "            for i, idx in enumerate(indices):\n",
    "                super_expensive_weights = np.ones(p_shp[1:])\n",
    "                x_T[idx] += t[i] * super_expensive_weights\n",
    "            return pl.T(x_T.reshape(pl.p.shape))\n",
    "        return Linearization(weighted_reduction(pl.p), fwd, bwd)\n",
    "    p = pl.reshape(n_cols, -1)\n",
    "    y, indices = np.zeros((n, )), np.arange(n) % p.shape[0]\n",
    "    for i, idx in enumerate(indices):\n",
    "        super_expensive_weights = np.ones(p.shape[1:])\n",
    "        y[i] = np.sum(p[idx] * super_expensive_weights)\n",
    "    return y"
   ]
  },
  {
   "cell_type": "code",
   "execution_count": null,
   "metadata": {},
   "outputs": [],
   "source": [
    "y2 = weighted_reduction(y)\n",
    "j = weighted_reduction(Linearization(y))\n",
    "j(y)"
   ]
  },
  {
   "cell_type": "code",
   "execution_count": null,
   "metadata": {},
   "outputs": [],
   "source": [
    "def f(x): return weighted_reduction(exp(x))\n",
    "\n",
    "x0 = 1e-2 * np.arange(0, 9)\n",
    "f0 = f(x0)\n",
    "f_ones = np.ones(f0.shape)\n",
    "\n",
    "j = f(Linearization(x0))\n",
    "j(x0), j.T(f_ones)"
   ]
  },
  {
   "cell_type": "code",
   "execution_count": null,
   "metadata": {},
   "outputs": [],
   "source": [
    "def sum(pl):\n",
    "    if isinstance(pl, Linearization):\n",
    "        y = sum(pl.p)\n",
    "        def fwd(t): return sum(pl(t))\n",
    "        def bwd(t): return pl.T(t * np.ones(pl.p.shape))\n",
    "        return Linearization(y, fwd, bwd)\n",
    "    return np.sum(pl)\n",
    "\n",
    "\n",
    "sum(j).T(1.)"
   ]
  },
  {
   "cell_type": "code",
   "execution_count": null,
   "metadata": {},
   "outputs": [],
   "source": []
  }
 ],
 "metadata": {
  "kernelspec": {
   "display_name": "Python 3 (ipykernel)",
   "language": "python",
   "name": "python3"
  },
  "language_info": {
   "codemirror_mode": {
    "name": "ipython",
    "version": 3
   },
   "file_extension": ".py",
   "mimetype": "text/x-python",
   "name": "python",
   "nbconvert_exporter": "python",
   "pygments_lexer": "ipython3",
   "version": "3.9.12"
  },
  "orig_nbformat": 4
 },
 "nbformat": 4,
 "nbformat_minor": 2
}
