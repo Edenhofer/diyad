{
 "cells": [
  {
   "cell_type": "code",
   "execution_count": null,
   "metadata": {},
   "outputs": [],
   "source": [
    "class Linearization():\n",
    "    def __init__(self, primals, fwd=lambda x: x, bwd=lambda y: y):\n",
    "        self.p = primals\n",
    "        self._fwd, self._bwd = fwd, bwd\n",
    "\n",
    "    def __call__(self, primals):\n",
    "        return self._fwd(primals)\n",
    "\n",
    "    @property\n",
    "    def T(self):\n",
    "        return self.__class__(None, self._bwd, self._fwd)\n",
    "\n",
    "    def __repr__(self):\n",
    "        return f\"{self.__class__.__name__}({self.p}, {self._fwd}, {self._bwd})\"\n",
    "\n",
    "\n",
    "def exp(pl):\n",
    "    if isinstance(pl, Linearization):\n",
    "        y = exp(pl.p)\n",
    "        def fwd(x): return y * pl(x)\n",
    "        def bwd(x): return pl.T(x) * y\n",
    "        return Linearization(y, fwd, bwd)\n",
    "    return np.exp(pl)"
   ]
  },
  {
   "cell_type": "code",
   "execution_count": null,
   "metadata": {},
   "outputs": [],
   "source": [
    "import numpy as np\n",
    "\n",
    "x0 = 1e-2 * np.arange(0, 9).reshape(3, 3)\n",
    "ones = np.ones((3, 3))\n",
    "y = exp(x0)\n",
    "j = exp(exp(Linearization(x0)))\n",
    "print(y)\n",
    "print(j.T(ones))"
   ]
  },
  {
   "cell_type": "code",
   "execution_count": null,
   "metadata": {},
   "outputs": [],
   "source": [
    "import jax\n",
    "\n",
    "_, jj_T = jax.vjp(lambda x: jax.numpy.exp(jax.numpy.exp(x)), x0.astype(float))\n",
    "jj_T(ones)"
   ]
  },
  {
   "cell_type": "code",
   "execution_count": null,
   "metadata": {},
   "outputs": [],
   "source": [
    "def weighted_reduction(pl):\n",
    "    n = 32\n",
    "    if isinstance(pl, Linearization):\n",
    "        y = weighted_reduction(pl.p)\n",
    "        def fwd(x): return weighted_reduction(pl(x))\n",
    "        def bwd(x):\n",
    "            indices = np.arange(n) % pl.p.shape[0]\n",
    "            x_T = np.zeros(pl.p.shape)\n",
    "            for i, idx in enumerate(indices):\n",
    "                super_expensive_weights = np.ones(pl.p.shape[1:])\n",
    "                x_T[idx] += x[i] * super_expensive_weights\n",
    "            return pl.T(x_T)\n",
    "        return Linearization(y, fwd, bwd)\n",
    "    indices = np.arange(n) % pl.shape[0]\n",
    "    y = np.zeros((n, ))\n",
    "    for i, idx in enumerate(indices):\n",
    "        super_expensive_weights = np.ones(pl.shape[1:])\n",
    "        y[i] = np.sum(pl[idx] * super_expensive_weights)\n",
    "    return y"
   ]
  },
  {
   "cell_type": "code",
   "execution_count": null,
   "metadata": {},
   "outputs": [],
   "source": [
    "y2 = weighted_reduction(y)\n",
    "j = weighted_reduction(Linearization(y))\n",
    "j.T(y2)"
   ]
  },
  {
   "cell_type": "code",
   "execution_count": null,
   "metadata": {},
   "outputs": [],
   "source": [
    "def f(x): return weighted_reduction(exp(x))\n",
    "\n",
    "x0 = 1e-2 * np.arange(0, 9).reshape(3, 3)\n",
    "f0 = f(x0)\n",
    "f_ones = np.ones(f0.shape)\n",
    "\n",
    "j = f(Linearization(x0))\n",
    "j(x0), j.T(f_ones)"
   ]
  },
  {
   "cell_type": "code",
   "execution_count": null,
   "metadata": {},
   "outputs": [],
   "source": [
    "def sum(pl):\n",
    "    if isinstance(pl, Linearization):\n",
    "        y = sum(pl.p)\n",
    "        def fwd(x): return sum(pl(x))\n",
    "        def bwd(x): return pl.T(x * np.ones(pl.p.shape))\n",
    "        return Linearization(y, fwd, bwd)\n",
    "    return np.sum(pl)\n",
    "\n",
    "\n",
    "sum(j).T(1.)"
   ]
  },
  {
   "cell_type": "code",
   "execution_count": null,
   "metadata": {},
   "outputs": [],
   "source": []
  }
 ],
 "metadata": {
  "kernelspec": {
   "display_name": "Python 3 (ipykernel)",
   "language": "python",
   "name": "python3"
  },
  "language_info": {
   "codemirror_mode": {
    "name": "ipython",
    "version": 3
   },
   "file_extension": ".py",
   "mimetype": "text/x-python",
   "name": "python",
   "nbconvert_exporter": "python",
   "pygments_lexer": "ipython3",
   "version": "3.9.12"
  },
  "orig_nbformat": 4
 },
 "nbformat": 4,
 "nbformat_minor": 2
}
